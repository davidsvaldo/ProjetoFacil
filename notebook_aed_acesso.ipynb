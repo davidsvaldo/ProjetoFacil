{
  "nbformat": 4,
  "nbformat_minor": 0,
  "metadata": {
    "colab": {
      "provenance": [],
      "authorship_tag": "ABX9TyMCa6xEyWpzZdioSOlcjSU1",
      "include_colab_link": true
    },
    "kernelspec": {
      "name": "python3",
      "display_name": "Python 3"
    },
    "language_info": {
      "name": "python"
    }
  },
  "cells": [
    {
      "cell_type": "markdown",
      "metadata": {
        "id": "view-in-github",
        "colab_type": "text"
      },
      "source": [
        "<a href=\"https://colab.research.google.com/github/davidsvaldo/ProjetoFacil/blob/main/notebook_aed_acesso.ipynb\" target=\"_parent\"><img src=\"https://colab.research.google.com/assets/colab-badge.svg\" alt=\"Open In Colab\"/></a>"
      ]
    },
    {
      "cell_type": "markdown",
      "source": [
        "# ANÁLISE ESTATÍSTICA DESCRITIVA - CONTROLE DE ACESSO"
      ],
      "metadata": {
        "id": "6xr88MxGhnrg"
      }
    },
    {
      "cell_type": "code",
      "source": [
        "import pandas as pd\n",
        "# Importação de dados CSV com separador de colunas pelo caracter \",\"\n",
        "dataset = pd.read_csv ('data-set-acesso.csv', sep=';')\n",
        "dataset"
      ],
      "metadata": {
        "colab": {
          "base_uri": "https://localhost:8080/",
          "height": 423
        },
        "id": "T-1ePY0TigT_",
        "outputId": "6391118e-5a85-4260-a9a2-e70864b2eab4"
      },
      "execution_count": 4,
      "outputs": [
        {
          "output_type": "execute_result",
          "data": {
            "text/plain": [
              "     numr_titul data_acesso      hora_acesso  idade sexo\n",
              "0       PAC0001  2018-01-02  06:07:37.660258  117.0    M\n",
              "1       SCF0970  2018-01-02  06:07:37.660258   69.0    M\n",
              "2       SP 4573  2018-01-02  06:07:37.660258   73.0    M\n",
              "3       SP 1664  2018-01-02  06:07:37.660258   77.0    M\n",
              "4       SCE4165  2018-01-02  06:07:37.660258   67.0    M\n",
              "...         ...         ...              ...    ...  ...\n",
              "1995    SCE1681  2018-01-02  06:07:37.660258   47.0    M\n",
              "1996    SCF0133  2018-01-02  06:07:37.660258   52.0    M\n",
              "1997    SCF4945  2018-01-02  06:07:37.660258   82.0    F\n",
              "1998    SP 1077  2018-01-02  06:07:37.660258   73.0    F\n",
              "1999    SF 3289  2018-01-02  06:07:37.660258   67.0    F\n",
              "\n",
              "[2000 rows x 5 columns]"
            ],
            "text/html": [
              "\n",
              "  <div id=\"df-55613514-b1b1-4f12-9097-85daaea8c48b\">\n",
              "    <div class=\"colab-df-container\">\n",
              "      <div>\n",
              "<style scoped>\n",
              "    .dataframe tbody tr th:only-of-type {\n",
              "        vertical-align: middle;\n",
              "    }\n",
              "\n",
              "    .dataframe tbody tr th {\n",
              "        vertical-align: top;\n",
              "    }\n",
              "\n",
              "    .dataframe thead th {\n",
              "        text-align: right;\n",
              "    }\n",
              "</style>\n",
              "<table border=\"1\" class=\"dataframe\">\n",
              "  <thead>\n",
              "    <tr style=\"text-align: right;\">\n",
              "      <th></th>\n",
              "      <th>numr_titul</th>\n",
              "      <th>data_acesso</th>\n",
              "      <th>hora_acesso</th>\n",
              "      <th>idade</th>\n",
              "      <th>sexo</th>\n",
              "    </tr>\n",
              "  </thead>\n",
              "  <tbody>\n",
              "    <tr>\n",
              "      <th>0</th>\n",
              "      <td>PAC0001</td>\n",
              "      <td>2018-01-02</td>\n",
              "      <td>06:07:37.660258</td>\n",
              "      <td>117.0</td>\n",
              "      <td>M</td>\n",
              "    </tr>\n",
              "    <tr>\n",
              "      <th>1</th>\n",
              "      <td>SCF0970</td>\n",
              "      <td>2018-01-02</td>\n",
              "      <td>06:07:37.660258</td>\n",
              "      <td>69.0</td>\n",
              "      <td>M</td>\n",
              "    </tr>\n",
              "    <tr>\n",
              "      <th>2</th>\n",
              "      <td>SP 4573</td>\n",
              "      <td>2018-01-02</td>\n",
              "      <td>06:07:37.660258</td>\n",
              "      <td>73.0</td>\n",
              "      <td>M</td>\n",
              "    </tr>\n",
              "    <tr>\n",
              "      <th>3</th>\n",
              "      <td>SP 1664</td>\n",
              "      <td>2018-01-02</td>\n",
              "      <td>06:07:37.660258</td>\n",
              "      <td>77.0</td>\n",
              "      <td>M</td>\n",
              "    </tr>\n",
              "    <tr>\n",
              "      <th>4</th>\n",
              "      <td>SCE4165</td>\n",
              "      <td>2018-01-02</td>\n",
              "      <td>06:07:37.660258</td>\n",
              "      <td>67.0</td>\n",
              "      <td>M</td>\n",
              "    </tr>\n",
              "    <tr>\n",
              "      <th>...</th>\n",
              "      <td>...</td>\n",
              "      <td>...</td>\n",
              "      <td>...</td>\n",
              "      <td>...</td>\n",
              "      <td>...</td>\n",
              "    </tr>\n",
              "    <tr>\n",
              "      <th>1995</th>\n",
              "      <td>SCE1681</td>\n",
              "      <td>2018-01-02</td>\n",
              "      <td>06:07:37.660258</td>\n",
              "      <td>47.0</td>\n",
              "      <td>M</td>\n",
              "    </tr>\n",
              "    <tr>\n",
              "      <th>1996</th>\n",
              "      <td>SCF0133</td>\n",
              "      <td>2018-01-02</td>\n",
              "      <td>06:07:37.660258</td>\n",
              "      <td>52.0</td>\n",
              "      <td>M</td>\n",
              "    </tr>\n",
              "    <tr>\n",
              "      <th>1997</th>\n",
              "      <td>SCF4945</td>\n",
              "      <td>2018-01-02</td>\n",
              "      <td>06:07:37.660258</td>\n",
              "      <td>82.0</td>\n",
              "      <td>F</td>\n",
              "    </tr>\n",
              "    <tr>\n",
              "      <th>1998</th>\n",
              "      <td>SP 1077</td>\n",
              "      <td>2018-01-02</td>\n",
              "      <td>06:07:37.660258</td>\n",
              "      <td>73.0</td>\n",
              "      <td>F</td>\n",
              "    </tr>\n",
              "    <tr>\n",
              "      <th>1999</th>\n",
              "      <td>SF 3289</td>\n",
              "      <td>2018-01-02</td>\n",
              "      <td>06:07:37.660258</td>\n",
              "      <td>67.0</td>\n",
              "      <td>F</td>\n",
              "    </tr>\n",
              "  </tbody>\n",
              "</table>\n",
              "<p>2000 rows × 5 columns</p>\n",
              "</div>\n",
              "      <button class=\"colab-df-convert\" onclick=\"convertToInteractive('df-55613514-b1b1-4f12-9097-85daaea8c48b')\"\n",
              "              title=\"Convert this dataframe to an interactive table.\"\n",
              "              style=\"display:none;\">\n",
              "        \n",
              "  <svg xmlns=\"http://www.w3.org/2000/svg\" height=\"24px\"viewBox=\"0 0 24 24\"\n",
              "       width=\"24px\">\n",
              "    <path d=\"M0 0h24v24H0V0z\" fill=\"none\"/>\n",
              "    <path d=\"M18.56 5.44l.94 2.06.94-2.06 2.06-.94-2.06-.94-.94-2.06-.94 2.06-2.06.94zm-11 1L8.5 8.5l.94-2.06 2.06-.94-2.06-.94L8.5 2.5l-.94 2.06-2.06.94zm10 10l.94 2.06.94-2.06 2.06-.94-2.06-.94-.94-2.06-.94 2.06-2.06.94z\"/><path d=\"M17.41 7.96l-1.37-1.37c-.4-.4-.92-.59-1.43-.59-.52 0-1.04.2-1.43.59L10.3 9.45l-7.72 7.72c-.78.78-.78 2.05 0 2.83L4 21.41c.39.39.9.59 1.41.59.51 0 1.02-.2 1.41-.59l7.78-7.78 2.81-2.81c.8-.78.8-2.07 0-2.86zM5.41 20L4 18.59l7.72-7.72 1.47 1.35L5.41 20z\"/>\n",
              "  </svg>\n",
              "      </button>\n",
              "      \n",
              "  <style>\n",
              "    .colab-df-container {\n",
              "      display:flex;\n",
              "      flex-wrap:wrap;\n",
              "      gap: 12px;\n",
              "    }\n",
              "\n",
              "    .colab-df-convert {\n",
              "      background-color: #E8F0FE;\n",
              "      border: none;\n",
              "      border-radius: 50%;\n",
              "      cursor: pointer;\n",
              "      display: none;\n",
              "      fill: #1967D2;\n",
              "      height: 32px;\n",
              "      padding: 0 0 0 0;\n",
              "      width: 32px;\n",
              "    }\n",
              "\n",
              "    .colab-df-convert:hover {\n",
              "      background-color: #E2EBFA;\n",
              "      box-shadow: 0px 1px 2px rgba(60, 64, 67, 0.3), 0px 1px 3px 1px rgba(60, 64, 67, 0.15);\n",
              "      fill: #174EA6;\n",
              "    }\n",
              "\n",
              "    [theme=dark] .colab-df-convert {\n",
              "      background-color: #3B4455;\n",
              "      fill: #D2E3FC;\n",
              "    }\n",
              "\n",
              "    [theme=dark] .colab-df-convert:hover {\n",
              "      background-color: #434B5C;\n",
              "      box-shadow: 0px 1px 3px 1px rgba(0, 0, 0, 0.15);\n",
              "      filter: drop-shadow(0px 1px 2px rgba(0, 0, 0, 0.3));\n",
              "      fill: #FFFFFF;\n",
              "    }\n",
              "  </style>\n",
              "\n",
              "      <script>\n",
              "        const buttonEl =\n",
              "          document.querySelector('#df-55613514-b1b1-4f12-9097-85daaea8c48b button.colab-df-convert');\n",
              "        buttonEl.style.display =\n",
              "          google.colab.kernel.accessAllowed ? 'block' : 'none';\n",
              "\n",
              "        async function convertToInteractive(key) {\n",
              "          const element = document.querySelector('#df-55613514-b1b1-4f12-9097-85daaea8c48b');\n",
              "          const dataTable =\n",
              "            await google.colab.kernel.invokeFunction('convertToInteractive',\n",
              "                                                     [key], {});\n",
              "          if (!dataTable) return;\n",
              "\n",
              "          const docLinkHtml = 'Like what you see? Visit the ' +\n",
              "            '<a target=\"_blank\" href=https://colab.research.google.com/notebooks/data_table.ipynb>data table notebook</a>'\n",
              "            + ' to learn more about interactive tables.';\n",
              "          element.innerHTML = '';\n",
              "          dataTable['output_type'] = 'display_data';\n",
              "          await google.colab.output.renderOutput(dataTable, element);\n",
              "          const docLink = document.createElement('div');\n",
              "          docLink.innerHTML = docLinkHtml;\n",
              "          element.appendChild(docLink);\n",
              "        }\n",
              "      </script>\n",
              "    </div>\n",
              "  </div>\n",
              "  "
            ]
          },
          "metadata": {},
          "execution_count": 4
        }
      ]
    },
    {
      "cell_type": "code",
      "source": [
        "#ESTATÍSTICA DESCRITIVA DA IDADE\n",
        "\n",
        "#Valor Mínimo da idade\n",
        "#dataset['idade'].min()\n",
        "\n",
        "#Valor Máximo da idade\n",
        "#dataset['idade'].max()\n",
        "\n",
        "#Valor do desvio Padrão da idade\n",
        "#dataset['idade'].std()\n",
        "\n",
        "# Valor da Média da idade\n",
        "#dataset['idade'].mean()\n",
        "\n",
        "# valor da mediana da idade\n",
        "dataset['idade'].median()"
      ],
      "metadata": {
        "colab": {
          "base_uri": "https://localhost:8080/"
        },
        "id": "HdKcojytlpX2",
        "outputId": "9fb42d9c-f09e-4e84-d0d9-cd3dc69df178"
      },
      "execution_count": 13,
      "outputs": [
        {
          "output_type": "execute_result",
          "data": {
            "text/plain": [
              "49.0"
            ]
          },
          "metadata": {},
          "execution_count": 13
        }
      ]
    },
    {
      "cell_type": "code",
      "source": [
        "#**Qual é a contagem totsl dos acessos agrupados por sexo\n",
        "#dataset.groupby ('sexo') ['sexo'].count()\n",
        "\n",
        "#** Qual é a contagem total dos acessos apenas para faixa etaria de adolescentes\n",
        "#dataset [(dataset['idade']>= 18) & (dataset['idade'] <= 30]['idade']).count()\n"
      ],
      "metadata": {
        "colab": {
          "base_uri": "https://localhost:8080/",
          "height": 130
        },
        "id": "trPxOIHWp7i4",
        "outputId": "2fdbaf89-0f1b-4747-93c6-df492ccbb380"
      },
      "execution_count": 40,
      "outputs": [
        {
          "output_type": "error",
          "ename": "SyntaxError",
          "evalue": "ignored",
          "traceback": [
            "\u001b[0;36m  File \u001b[0;32m\"<ipython-input-40-b7e82b9ffa3a>\"\u001b[0;36m, line \u001b[0;32m5\u001b[0m\n\u001b[0;31m    dataset [(dataset['idade']>= 18) & (dataset['idade'] <= 30]['idade']).count()\u001b[0m\n\u001b[0m                                                              ^\u001b[0m\n\u001b[0;31mSyntaxError\u001b[0m\u001b[0;31m:\u001b[0m closing parenthesis ']' does not match opening parenthesis '('\n"
          ]
        }
      ]
    },
    {
      "cell_type": "markdown",
      "source": [
        "GRAFICOS"
      ],
      "metadata": {
        "id": "7NaBz9Dt4Ap4"
      }
    },
    {
      "cell_type": "code",
      "source": [
        "#dataset['sexo'].hist()\n",
        "#dataset ['sexo'].value_counts() .plot(kind='pie', title='sexo', legend=True, table=True, autopct='%1.1f%%')\n",
        "#dataset ['idade'].hist (bins=30, color='green')\n",
        "#dataset [(dataset['idade']> 40) & (dataset ['idade'] < 50 )]['idade'].hist (bins=30, color='orange')\n",
        "dataset.boxplot(column='idade')"
      ],
      "metadata": {
        "colab": {
          "base_uri": "https://localhost:8080/",
          "height": 447
        },
        "id": "8pXwiSkk4FVS",
        "outputId": "db6197fb-70bb-4305-b594-f7aef5a6fac5"
      },
      "execution_count": 59,
      "outputs": [
        {
          "output_type": "execute_result",
          "data": {
            "text/plain": [
              "<Axes: >"
            ]
          },
          "metadata": {},
          "execution_count": 59
        },
        {
          "output_type": "display_data",
          "data": {
            "text/plain": [
              "<Figure size 640x480 with 1 Axes>"
            ],
            "image/png": "[encoded data removed]"
          },
          "metadata": {}
        }
      ]
    }
  ]
}